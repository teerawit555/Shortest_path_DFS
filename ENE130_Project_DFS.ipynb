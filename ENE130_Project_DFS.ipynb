{
  "nbformat": 4,
  "nbformat_minor": 0,
  "metadata": {
    "colab": {
      "provenance": []
    },
    "kernelspec": {
      "name": "python3",
      "display_name": "Python 3"
    },
    "language_info": {
      "name": "python"
    }
  },
  "cells": [
    {
      "cell_type": "markdown",
      "source": [
        "# **Handing Writing**"
      ],
      "metadata": {
        "id": "g6LBRmD47Urg"
      }
    },
    {
      "cell_type": "markdown",
      "source": [
        "### DEMO PROJECT PATH"
      ],
      "metadata": {
        "id": "Bj-T0N-V2sS0"
      }
    },
    {
      "cell_type": "code",
      "source": [
        "# การเชื่อมต่อของแต่ละโหนดจะเป็น list ของ tuple เป็นคู่ของโหนดถัดไปและน้ำหนัก(node,distance)\n",
        "'''\n",
        "connections = { 'A' : [('B', D1 ,T1),('D', D2 ,T2)],\n",
        "                'B' : [('A', D1 ,T1), ('C', D3 ,T3), ('E', D4 ,T4)],\n",
        "                'C' : [('B', D3 ,T3), ('F', D5 ,T5)],\n",
        "                'D' : [('A', D2 ,T2), ('E', D6 ,T6), ('G', D7 ,T7)],\n",
        "                'E' : [('B', D4 ,T4), ('D', D6 ,T6), ('F', D8 ,T8),('H', D9 ,T9)],\n",
        "                'F' : [('C', D5 ,T5), ('E', D8 ,T8), ('I', D10 ,T10)],\n",
        "                'G' : [('D', D7 ,T7), ('H', D11 ,T11),],\n",
        "                'H' : [('E', D9 ,T9), ('G', D11 ,T11), ('I', D12 ,T12)],\n",
        "                'I' : [('F', D10 ,T10), ('H', D12 ,T12)]\n",
        "              }\n",
        "'''"
      ],
      "metadata": {
        "id": "EA8KZ-K72wLT",
        "outputId": "c0f1dac5-5ff5-4bf3-e633-a6a0b7d53c49",
        "colab": {
          "base_uri": "https://localhost:8080/",
          "height": 88
        }
      },
      "execution_count": null,
      "outputs": [
        {
          "output_type": "execute_result",
          "data": {
            "text/plain": [
              "\"\\nconnections = { 'A' : [('B', D1 ,T1),('D', D2 ,T2)],\\n                'B' : [('A', D1 ,T1), ('C', D3 ,T3), ('E', D4 ,T4)],\\n                'C' : [('B', D3 ,T3), ('F', D5 ,T5)],\\n                'D' : [('A', D2 ,T2), ('E', D6 ,T6), ('G', D7 ,T7)],\\n                'E' : [('B', D4 ,T4), ('D', D6 ,T6), ('F', D8 ,T8),('H', D9 ,T9)],\\n                'F' : [('C', D5 ,T5), ('E', D8 ,T8), ('I', D10 ,T10)],\\n                'G' : [('D', D7 ,T7), ('H', D11 ,T11),],\\n                'H' : [('E', D9 ,T9), ('G', D11 ,T11), ('I', D12 ,T12)],\\n                'I' : [('F', D10 ,T10), ('H', D12 ,T12)] \\n              }\\n\""
            ],
            "application/vnd.google.colaboratory.intrinsic+json": {
              "type": "string"
            }
          },
          "metadata": {},
          "execution_count": 1
        }
      ]
    },
    {
      "cell_type": "code",
      "source": [
        "def NodeFound(node, target_node):\n",
        "    if node == target_node:\n",
        "      return True\n",
        "    else:\n",
        "      return False\n",
        "\n",
        "def root(path):   # ฟังก์ชันเพิ่มเอาไว้ต่อ string ตอน print result\n",
        "    ans = ''\n",
        "    b = len(path)\n",
        "    for i in range(b):\n",
        "        ans += path.pop(0)\n",
        "    return ans"
      ],
      "metadata": {
        "id": "hLEy2rMGPGKj"
      },
      "execution_count": null,
      "outputs": []
    },
    {
      "cell_type": "markdown",
      "source": [
        "#distance and time"
      ],
      "metadata": {
        "id": "5JcDxm10B0uv"
      }
    },
    {
      "cell_type": "code",
      "source": [
        "# D,T version\n",
        "# for distance and time of travel version\n",
        "connections = { 'A' : [('B', 80,19),('D', 55,39)],\n",
        "                'B' : [('A', 80,19), ('C', 43,45), ('E', 57,20)],\n",
        "                'C' : [('B', 43,45), ('F', 10,64)],\n",
        "                'D' : [('A', 55,39), ('E', 19,15), ('G', 13,26)],\n",
        "                'E' : [('B', 57,20), ('D', 19,15), ('F', 11,57),('H', 15,43)],\n",
        "                'F' : [('C', 10,64), ('E', 11,57), ('I', 99,21)],\n",
        "                'G' : [('D', 13,26), ('H', 16,22),],\n",
        "                'H' : [('E', 15,43), ('G', 16,22), ('I', 51,40)],\n",
        "                'I' : [('F', 99,21), ('H', 51,40)]\n",
        "              }\n",
        "\n",
        "\n",
        "actions = [0, 1, 2, 3]\n",
        "initial_node = 'A'\n",
        "\n",
        "shorted_path = [] # เป็น list ที่เอาไว้เก็บ path ที่มี time น้อยที่สุด\n",
        "time_path = [] # เก็บ path ที่มี distance น้อยสุด\n",
        "best_path = [] # เก็บ path ที่ดีที่สุด\n",
        "min_distance = 9999999 # ประกาศตัวแปรเพื่อเอาไว้เช็คระยะทางที่น้อยที่สุด\n",
        "min_time = 9999999 # เหมือนกับ min_distance\n",
        "cheapest_cost = 9999999 #เหมือนข้างบนเลยจ้า\n",
        "\n",
        "def path_dfs(node, distance, time, path):\n",
        "\n",
        "  global min_distance, shorted_path, min_time, time_path , best_path , cheapest_cost # เรียกใช้ตัวแปรจากภายนอกฟังก์ชัน เพื่อให้เวลาเปลี่ยนค่าอะไรในฟังก์ชันตัวแปรภายนอกนั้น ๆ ก็จะถูกเปลี่ยนไปด้วย\n",
        "  path.append((node, distance, time)) # เพิ่มค่า node, distance,time เป็น tuple เข้าไปใน path\n",
        "  if NodeFound(node, \"I\"): # เช็คว่า path ถึงโหนดที่เราต้องการแล้วหรือยัง\n",
        "    if distance < min_distance : # เช็คว่าตอนนี้ที่ node ที่เราต้องการ distance น้อยกว่า min_distance เดิมที่เคยเก็บมามั้ย\n",
        "      min_distance = distance # ถ้าใช่ก็ set min_distance ใหม่ สุดท้ายแล้วเราก็จะได้ระยะทางที่น้อยที่สุด\n",
        "      shorted_path = path.copy() # ทุกครั้งที่เราได้ path ใหม่ที่น้อยกว่าอันเดิมก็ให้อัพเดทใหม่กลับเข้าไปที่ shorted_path ซึ่งเป็นตัวแปรที่ไว้เก็บ path ที่สั้นที่สุด\n",
        "    if time < min_time: # หลักการเดียวกันกับ distance\n",
        "      min_time = time\n",
        "      time_path = path.copy()\n",
        "\n",
        "  next_possible_nodes = connections[node]  # กำหนดชื่อตัวแปรเฉยๆ\n",
        "  for next_node in next_possible_nodes: # ก็คือวนลูปใน connections[node] นั่นแหละ\n",
        "\n",
        "    prev_nodes = [prev_node for (prev_node, distance, time) in path] # ดึงข้อมูลโหนดที่อยู่ใน path ออกมาเป็น list\n",
        "\n",
        "    if next_node[0] not in prev_nodes: #เช็คว่า node ที่จะไปต้องไม่ใช่ node ที่ไปมาแล้ว\n",
        "      path_dfs(next_node[0], distance + next_node[1], time + next_node[2], path) # recursive node ไปเรื่อย ๆ โดยการ + ระยะทางและเวลา เข้าไปจนกว่าจะถึงโหนดที่เราต้องการ\n",
        "      print(path)\n",
        "      path.pop() # เมื่อไปจนสุดทางแล้วก็เอาโหนดนั้น ๆ ออกจาก path list ไป\n",
        "\n",
        "      if NodeFound(node, \"I\"): # เช็คว่าถ้า path นั้นๆสุดที่ node I ก็แสดงว่านั่นคือ path ที่ต้องการ\n",
        "        print(\"---->>> path\",\":\",path)\n",
        "\n",
        "        node_list = [nodes for (nodes,distance,time) in path] # ดึงข้อมูล node จาก path ออกมาเป็น list เพื่อที่จะนำ stringไปต่อกัน\n",
        "        root = ''\n",
        "        for i in range(len(node_list)): # วน loop จำนวนครั้งตามสมาชิกใน node_list\n",
        "          root += node_list.pop(0) # pop index ที่ 0 (ตัวแรกของ node_list) แล้วเพิ่มไปที่ root ------------- อันนี้ไม่แน่ใจ\n",
        "        print(\"result path :\",(time,distance,root)) # ปริ้นผลออกมาดู\n",
        "\n",
        "\n",
        "        # โดยที่ ใช้ cost เพื่อที่จะหา path ที่ดีหรือ path ที่คุ้มค่าที่สุดในการเดินทาง\n",
        "        cost = ((path[-1][1])* 3) + ((path[-1][2])* 2) # ตั้งราคาเพื่อที่จะได้เทียบหา path ที่ดีที่สุด --> make sense\n",
        "        print(\"cost is\",cost,\"baht\") # ปริ้น cost\n",
        "        print(\"---------------------------------------------------------------------------\")\n",
        "        if cost < cheapest_cost: # หลักการเดียวกันกับ distance กับ time\n",
        "          cheapest_cost = cost\n",
        "          best_path = path.copy()"
      ],
      "metadata": {
        "id": "MzVcFE1x0LnO"
      },
      "execution_count": null,
      "outputs": []
    },
    {
      "cell_type": "code",
      "source": [
        "path_dfs(initial_node,distance=0,time=0,path=[])\n",
        "\n",
        "node_distance = [node_short for (node_short,distance,time) in shorted_path] #ดึงเอา node ใน shorted_path ออกมาเป็น list\n",
        "node_time = [node_time for (node_time,distance,time) in time_path] # ดึงเอา node ใน time_path ออกมาเป็น list\n",
        "node_best = [node_best for (node_best,distance,time) in best_path]\n",
        "\n",
        "print(\"---------------------------------------------------------------------------\")\n",
        "print(\"Set a cost to compare all path to find the best path\")\n",
        "print(\"cost rate is 3 baht per km. \")\n",
        "print(\"             is 2 baht per min. \")\n",
        "\n",
        "print(\"----------------------------- distance -----------------------------------\")\n",
        "print(\"min distance path :\",shorted_path,\"cost is\",((shorted_path[-1][1])*3) + ((shorted_path[-1][2])*2),\"baht\")\n",
        "print(\"result distance path :\",(shorted_path[-1][2],shorted_path[-1][1],root(node_distance))) # เรียกใช้ฟังก์ชันเพื่อที่จะเอาไว้ต่อสตริงของ node / ajarn salinee ต้องการ (time,distance,root)\n",
        "print(\"distance :\",shorted_path[-1][2],\"min\")\n",
        "print(\"time :\",shorted_path[-1][1],\"km.\")\n",
        "\n",
        "print(\"-------------------------------- time -------------------------------------\")\n",
        "print(\"min time path :\",time_path,\"cost is\",((time_path[-1][1])*3) + ((time_path[-1][2])*2),\"baht\")\n",
        "print(\"result time path :\",(time_path[-1][2],time_path[-1][1],root(node_time) )) # เรียกใช้ฟังก์ชันเพื่อที่จะเอาไว้ต่อสตริงของ node\n",
        "print(\"distance :\",time_path[-1][2],\"min\")\n",
        "print(\"time :\",time_path[-1][1],\"km.\")\n",
        "\n",
        "print(\"------------------------------- the best ----------------------------------\")\n",
        "print(\"The best path is\",best_path,\"which has the cheapest cost/charge is\",((best_path[-1][1])*3) + ((best_path[-1][2])*2),\"baht\")\n",
        "print(\"result time path :\",(best_path[-1][2],best_path[-1][1],root(node_best) )) # เรียกใช้ฟังก์ชันเพื่อที่จะเอาไว้ต่อสตริงของ node\n",
        "print(\"distance :\",best_path[-1][2],\"min\")\n",
        "print(\"time :\",best_path[-1][1],\"km.\")"
      ],
      "metadata": {
        "id": "vTCSYI4UdWVf",
        "outputId": "51fb0ba8-ba01-461b-a1d9-ba782c2248ed",
        "colab": {
          "base_uri": "https://localhost:8080/"
        }
      },
      "execution_count": null,
      "outputs": [
        {
          "output_type": "stream",
          "name": "stdout",
          "text": [
            "[('A', 0, 0), ('B', 80, 19), ('C', 123, 64), ('F', 133, 128), ('E', 144, 185), ('D', 163, 200), ('G', 176, 226), ('H', 192, 248), ('I', 243, 288)]\n",
            "[('A', 0, 0), ('B', 80, 19), ('C', 123, 64), ('F', 133, 128), ('E', 144, 185), ('D', 163, 200), ('G', 176, 226), ('H', 192, 248)]\n",
            "[('A', 0, 0), ('B', 80, 19), ('C', 123, 64), ('F', 133, 128), ('E', 144, 185), ('D', 163, 200), ('G', 176, 226)]\n",
            "[('A', 0, 0), ('B', 80, 19), ('C', 123, 64), ('F', 133, 128), ('E', 144, 185), ('D', 163, 200)]\n",
            "[('A', 0, 0), ('B', 80, 19), ('C', 123, 64), ('F', 133, 128), ('E', 144, 185), ('H', 159, 228), ('G', 175, 250), ('D', 188, 276)]\n",
            "[('A', 0, 0), ('B', 80, 19), ('C', 123, 64), ('F', 133, 128), ('E', 144, 185), ('H', 159, 228), ('G', 175, 250)]\n",
            "[('A', 0, 0), ('B', 80, 19), ('C', 123, 64), ('F', 133, 128), ('E', 144, 185), ('H', 159, 228), ('I', 210, 268)]\n",
            "[('A', 0, 0), ('B', 80, 19), ('C', 123, 64), ('F', 133, 128), ('E', 144, 185), ('H', 159, 228)]\n",
            "[('A', 0, 0), ('B', 80, 19), ('C', 123, 64), ('F', 133, 128), ('E', 144, 185)]\n",
            "[('A', 0, 0), ('B', 80, 19), ('C', 123, 64), ('F', 133, 128), ('I', 232, 149), ('H', 283, 189), ('E', 298, 232), ('D', 317, 247), ('G', 330, 273)]\n",
            "[('A', 0, 0), ('B', 80, 19), ('C', 123, 64), ('F', 133, 128), ('I', 232, 149), ('H', 283, 189), ('E', 298, 232), ('D', 317, 247)]\n",
            "[('A', 0, 0), ('B', 80, 19), ('C', 123, 64), ('F', 133, 128), ('I', 232, 149), ('H', 283, 189), ('E', 298, 232)]\n",
            "[('A', 0, 0), ('B', 80, 19), ('C', 123, 64), ('F', 133, 128), ('I', 232, 149), ('H', 283, 189), ('G', 299, 211), ('D', 312, 237), ('E', 331, 252)]\n",
            "[('A', 0, 0), ('B', 80, 19), ('C', 123, 64), ('F', 133, 128), ('I', 232, 149), ('H', 283, 189), ('G', 299, 211), ('D', 312, 237)]\n",
            "[('A', 0, 0), ('B', 80, 19), ('C', 123, 64), ('F', 133, 128), ('I', 232, 149), ('H', 283, 189), ('G', 299, 211)]\n",
            "[('A', 0, 0), ('B', 80, 19), ('C', 123, 64), ('F', 133, 128), ('I', 232, 149), ('H', 283, 189)]\n",
            "---->>> path : [('A', 0, 0), ('B', 80, 19), ('C', 123, 64), ('F', 133, 128), ('I', 232, 149)]\n",
            "result path : (149, 232, 'ABCFI')\n",
            "cost is 994 baht\n",
            "---------------------------------------------------------------------------\n",
            "[('A', 0, 0), ('B', 80, 19), ('C', 123, 64), ('F', 133, 128), ('I', 232, 149)]\n",
            "[('A', 0, 0), ('B', 80, 19), ('C', 123, 64), ('F', 133, 128)]\n",
            "[('A', 0, 0), ('B', 80, 19), ('C', 123, 64)]\n",
            "[('A', 0, 0), ('B', 80, 19), ('E', 137, 39), ('D', 156, 54), ('G', 169, 80), ('H', 185, 102), ('I', 236, 142), ('F', 335, 163), ('C', 345, 227)]\n",
            "[('A', 0, 0), ('B', 80, 19), ('E', 137, 39), ('D', 156, 54), ('G', 169, 80), ('H', 185, 102), ('I', 236, 142), ('F', 335, 163)]\n",
            "---->>> path : [('A', 0, 0), ('B', 80, 19), ('E', 137, 39), ('D', 156, 54), ('G', 169, 80), ('H', 185, 102), ('I', 236, 142)]\n",
            "result path : (142, 236, 'ABEDGHI')\n",
            "cost is 992 baht\n",
            "---------------------------------------------------------------------------\n",
            "[('A', 0, 0), ('B', 80, 19), ('E', 137, 39), ('D', 156, 54), ('G', 169, 80), ('H', 185, 102), ('I', 236, 142)]\n",
            "[('A', 0, 0), ('B', 80, 19), ('E', 137, 39), ('D', 156, 54), ('G', 169, 80), ('H', 185, 102)]\n",
            "[('A', 0, 0), ('B', 80, 19), ('E', 137, 39), ('D', 156, 54), ('G', 169, 80)]\n",
            "[('A', 0, 0), ('B', 80, 19), ('E', 137, 39), ('D', 156, 54)]\n",
            "[('A', 0, 0), ('B', 80, 19), ('E', 137, 39), ('F', 148, 96), ('C', 158, 160)]\n",
            "[('A', 0, 0), ('B', 80, 19), ('E', 137, 39), ('F', 148, 96), ('I', 247, 117), ('H', 298, 157), ('G', 314, 179), ('D', 327, 205)]\n",
            "[('A', 0, 0), ('B', 80, 19), ('E', 137, 39), ('F', 148, 96), ('I', 247, 117), ('H', 298, 157), ('G', 314, 179)]\n",
            "[('A', 0, 0), ('B', 80, 19), ('E', 137, 39), ('F', 148, 96), ('I', 247, 117), ('H', 298, 157)]\n",
            "---->>> path : [('A', 0, 0), ('B', 80, 19), ('E', 137, 39), ('F', 148, 96), ('I', 247, 117)]\n",
            "result path : (117, 247, 'ABEFI')\n",
            "cost is 975 baht\n",
            "---------------------------------------------------------------------------\n",
            "[('A', 0, 0), ('B', 80, 19), ('E', 137, 39), ('F', 148, 96), ('I', 247, 117)]\n",
            "[('A', 0, 0), ('B', 80, 19), ('E', 137, 39), ('F', 148, 96)]\n",
            "[('A', 0, 0), ('B', 80, 19), ('E', 137, 39), ('H', 152, 82), ('G', 168, 104), ('D', 181, 130)]\n",
            "[('A', 0, 0), ('B', 80, 19), ('E', 137, 39), ('H', 152, 82), ('G', 168, 104)]\n",
            "[('A', 0, 0), ('B', 80, 19), ('E', 137, 39), ('H', 152, 82), ('I', 203, 122), ('F', 302, 143), ('C', 312, 207)]\n",
            "[('A', 0, 0), ('B', 80, 19), ('E', 137, 39), ('H', 152, 82), ('I', 203, 122), ('F', 302, 143)]\n",
            "---->>> path : [('A', 0, 0), ('B', 80, 19), ('E', 137, 39), ('H', 152, 82), ('I', 203, 122)]\n",
            "result path : (122, 203, 'ABEHI')\n",
            "cost is 853 baht\n",
            "---------------------------------------------------------------------------\n",
            "[('A', 0, 0), ('B', 80, 19), ('E', 137, 39), ('H', 152, 82), ('I', 203, 122)]\n",
            "[('A', 0, 0), ('B', 80, 19), ('E', 137, 39), ('H', 152, 82)]\n",
            "[('A', 0, 0), ('B', 80, 19), ('E', 137, 39)]\n",
            "[('A', 0, 0), ('B', 80, 19)]\n",
            "[('A', 0, 0), ('D', 55, 39), ('E', 74, 54), ('B', 131, 74), ('C', 174, 119), ('F', 184, 183), ('I', 283, 204), ('H', 334, 244), ('G', 350, 266)]\n",
            "[('A', 0, 0), ('D', 55, 39), ('E', 74, 54), ('B', 131, 74), ('C', 174, 119), ('F', 184, 183), ('I', 283, 204), ('H', 334, 244)]\n",
            "---->>> path : [('A', 0, 0), ('D', 55, 39), ('E', 74, 54), ('B', 131, 74), ('C', 174, 119), ('F', 184, 183), ('I', 283, 204)]\n",
            "result path : (204, 283, 'ADEBCFI')\n",
            "cost is 1257 baht\n",
            "---------------------------------------------------------------------------\n",
            "[('A', 0, 0), ('D', 55, 39), ('E', 74, 54), ('B', 131, 74), ('C', 174, 119), ('F', 184, 183), ('I', 283, 204)]\n",
            "[('A', 0, 0), ('D', 55, 39), ('E', 74, 54), ('B', 131, 74), ('C', 174, 119), ('F', 184, 183)]\n",
            "[('A', 0, 0), ('D', 55, 39), ('E', 74, 54), ('B', 131, 74), ('C', 174, 119)]\n",
            "[('A', 0, 0), ('D', 55, 39), ('E', 74, 54), ('B', 131, 74)]\n",
            "[('A', 0, 0), ('D', 55, 39), ('E', 74, 54), ('F', 85, 111), ('C', 95, 175), ('B', 138, 220)]\n",
            "[('A', 0, 0), ('D', 55, 39), ('E', 74, 54), ('F', 85, 111), ('C', 95, 175)]\n",
            "[('A', 0, 0), ('D', 55, 39), ('E', 74, 54), ('F', 85, 111), ('I', 184, 132), ('H', 235, 172), ('G', 251, 194)]\n",
            "[('A', 0, 0), ('D', 55, 39), ('E', 74, 54), ('F', 85, 111), ('I', 184, 132), ('H', 235, 172)]\n",
            "---->>> path : [('A', 0, 0), ('D', 55, 39), ('E', 74, 54), ('F', 85, 111), ('I', 184, 132)]\n",
            "result path : (132, 184, 'ADEFI')\n",
            "cost is 816 baht\n",
            "---------------------------------------------------------------------------\n",
            "[('A', 0, 0), ('D', 55, 39), ('E', 74, 54), ('F', 85, 111), ('I', 184, 132)]\n",
            "[('A', 0, 0), ('D', 55, 39), ('E', 74, 54), ('F', 85, 111)]\n",
            "[('A', 0, 0), ('D', 55, 39), ('E', 74, 54), ('H', 89, 97), ('G', 105, 119)]\n",
            "[('A', 0, 0), ('D', 55, 39), ('E', 74, 54), ('H', 89, 97), ('I', 140, 137), ('F', 239, 158), ('C', 249, 222), ('B', 292, 267)]\n",
            "[('A', 0, 0), ('D', 55, 39), ('E', 74, 54), ('H', 89, 97), ('I', 140, 137), ('F', 239, 158), ('C', 249, 222)]\n",
            "[('A', 0, 0), ('D', 55, 39), ('E', 74, 54), ('H', 89, 97), ('I', 140, 137), ('F', 239, 158)]\n",
            "---->>> path : [('A', 0, 0), ('D', 55, 39), ('E', 74, 54), ('H', 89, 97), ('I', 140, 137)]\n",
            "result path : (137, 140, 'ADEHI')\n",
            "cost is 694 baht\n",
            "---------------------------------------------------------------------------\n",
            "[('A', 0, 0), ('D', 55, 39), ('E', 74, 54), ('H', 89, 97), ('I', 140, 137)]\n",
            "[('A', 0, 0), ('D', 55, 39), ('E', 74, 54), ('H', 89, 97)]\n",
            "[('A', 0, 0), ('D', 55, 39), ('E', 74, 54)]\n",
            "[('A', 0, 0), ('D', 55, 39), ('G', 68, 65), ('H', 84, 87), ('E', 99, 130), ('B', 156, 150), ('C', 199, 195), ('F', 209, 259), ('I', 308, 280)]\n",
            "[('A', 0, 0), ('D', 55, 39), ('G', 68, 65), ('H', 84, 87), ('E', 99, 130), ('B', 156, 150), ('C', 199, 195), ('F', 209, 259)]\n",
            "[('A', 0, 0), ('D', 55, 39), ('G', 68, 65), ('H', 84, 87), ('E', 99, 130), ('B', 156, 150), ('C', 199, 195)]\n",
            "[('A', 0, 0), ('D', 55, 39), ('G', 68, 65), ('H', 84, 87), ('E', 99, 130), ('B', 156, 150)]\n",
            "[('A', 0, 0), ('D', 55, 39), ('G', 68, 65), ('H', 84, 87), ('E', 99, 130), ('F', 110, 187), ('C', 120, 251), ('B', 163, 296)]\n",
            "[('A', 0, 0), ('D', 55, 39), ('G', 68, 65), ('H', 84, 87), ('E', 99, 130), ('F', 110, 187), ('C', 120, 251)]\n",
            "[('A', 0, 0), ('D', 55, 39), ('G', 68, 65), ('H', 84, 87), ('E', 99, 130), ('F', 110, 187), ('I', 209, 208)]\n",
            "[('A', 0, 0), ('D', 55, 39), ('G', 68, 65), ('H', 84, 87), ('E', 99, 130), ('F', 110, 187)]\n",
            "[('A', 0, 0), ('D', 55, 39), ('G', 68, 65), ('H', 84, 87), ('E', 99, 130)]\n",
            "[('A', 0, 0), ('D', 55, 39), ('G', 68, 65), ('H', 84, 87), ('I', 135, 127), ('F', 234, 148), ('C', 244, 212), ('B', 287, 257), ('E', 344, 277)]\n",
            "[('A', 0, 0), ('D', 55, 39), ('G', 68, 65), ('H', 84, 87), ('I', 135, 127), ('F', 234, 148), ('C', 244, 212), ('B', 287, 257)]\n",
            "[('A', 0, 0), ('D', 55, 39), ('G', 68, 65), ('H', 84, 87), ('I', 135, 127), ('F', 234, 148), ('C', 244, 212)]\n",
            "[('A', 0, 0), ('D', 55, 39), ('G', 68, 65), ('H', 84, 87), ('I', 135, 127), ('F', 234, 148), ('E', 245, 205), ('B', 302, 225), ('C', 345, 270)]\n",
            "[('A', 0, 0), ('D', 55, 39), ('G', 68, 65), ('H', 84, 87), ('I', 135, 127), ('F', 234, 148), ('E', 245, 205), ('B', 302, 225)]\n",
            "[('A', 0, 0), ('D', 55, 39), ('G', 68, 65), ('H', 84, 87), ('I', 135, 127), ('F', 234, 148), ('E', 245, 205)]\n",
            "[('A', 0, 0), ('D', 55, 39), ('G', 68, 65), ('H', 84, 87), ('I', 135, 127), ('F', 234, 148)]\n",
            "---->>> path : [('A', 0, 0), ('D', 55, 39), ('G', 68, 65), ('H', 84, 87), ('I', 135, 127)]\n",
            "result path : (127, 135, 'ADGHI')\n",
            "cost is 659 baht\n",
            "---------------------------------------------------------------------------\n",
            "[('A', 0, 0), ('D', 55, 39), ('G', 68, 65), ('H', 84, 87), ('I', 135, 127)]\n",
            "[('A', 0, 0), ('D', 55, 39), ('G', 68, 65), ('H', 84, 87)]\n",
            "[('A', 0, 0), ('D', 55, 39), ('G', 68, 65)]\n",
            "[('A', 0, 0), ('D', 55, 39)]\n",
            "---------------------------------------------------------------------------\n",
            "Set a cost to compare all path to find the best path\n",
            "cost rate is 3 baht per km. \n",
            "             is 2 baht per min. \n",
            "----------------------------- distance -----------------------------------\n",
            "min distance path : [('A', 0, 0), ('D', 55, 39), ('G', 68, 65), ('H', 84, 87), ('I', 135, 127)] cost is 659 baht\n",
            "result distance path : (127, 135, 'ADGHI')\n",
            "distance : 127 min\n",
            "time : 135 km.\n",
            "-------------------------------- time -------------------------------------\n",
            "min time path : [('A', 0, 0), ('B', 80, 19), ('E', 137, 39), ('F', 148, 96), ('I', 247, 117)] cost is 975 baht\n",
            "result time path : (117, 247, 'ABEFI')\n",
            "distance : 117 min\n",
            "time : 247 km.\n",
            "------------------------------- the best ----------------------------------\n",
            "The best path is [('A', 0, 0), ('D', 55, 39), ('G', 68, 65), ('H', 84, 87), ('I', 135, 127)] which has the cheapest cost/charge is 659 baht\n",
            "result time path : (127, 135, 'ADGHI')\n",
            "distance : 127 min\n",
            "time : 135 km.\n"
          ]
        }
      ]
    },
    {
      "cell_type": "markdown",
      "source": [
        "# distance only"
      ],
      "metadata": {
        "id": "h0gngIVSbbO8"
      }
    },
    {
      "cell_type": "code",
      "source": [
        "# only Distance version\n",
        "#for distace\n",
        "connections = { 'A' : [('B', 80),('D', 55)],\n",
        "                'B' : [('A', 80), ('C', 43), ('E', 57)],\n",
        "                'C' : [('B', 43), ('F', 10)],\n",
        "                'D' : [('A', 55), ('E', 19), ('G', 13)],\n",
        "                'E' : [('B', 57), ('D', 19), ('F', 11),('H', 15)],\n",
        "                'F' : [('C', 10), ('E', 11), ('I', 99)],\n",
        "                'G' : [('D', 13), ('H', 16),],\n",
        "                'H' : [('E', 15), ('G', 16), ('I', 51)],\n",
        "                'I' : [('F', 99), ('H', 51)]\n",
        "              }\n",
        "\n",
        "actions = [0, 1, 2, 3]\n",
        "initial_node = 'A'\n",
        "\n",
        "shorted_path = [] # เก็บ path ที่มี distance น้อยสุด\n",
        "min_distance = 999 # ประกาศตัวแปรเพื่อเอาไว้เช็คระยะทางที่น้อยที่สุด\n",
        "def shorted_path_dfs(node, distance, path):\n",
        "\n",
        "  global min_distance, shorted_path   # เรียกใช้ตัวแปรจากภายนอกฟังก์ชัน เพื่อให้เวลาเปลี่ยนค่าอะไรในฟังก์ชันตัวแปรภายนอกนั้น ๆ ก็จะถูกเปลี่ยนไปด้วย ใช้ได้สำหรับทุดรีคูซีฟ โกบอลจะใช้ค่าเดียวกัน\n",
        "  path.append((node, distance)) # เพิ่มค่า node, distance เป็น tuple เข้าไปใน path\n",
        "  if NodeFound(node, \"I\"): # เช็คว่า path ถึงโหนดที่เราต้องการแล้วหรือยัง\n",
        "    if distance < min_distance : # เช็คว่าตอนนี้ที่ node ที่เราต้องการ distance น้อยกว่า min_distance เดิมที่เคยเก็บมามั้ย (เริ่มต้นให้ min_distance เป็น 999 หรือจะมากกว่านี้ก็ได้แต่จะต้องเป็นตัวเลขที่การันตีว่า distance รวมจะไม่ถึง เพื่อให้ min_distance ถูกเปลี่ยนแน่นอนในครั้งแรก)\n",
        "       min_distance = distance # ถ้าใช่ก็ set min_distance ใหม่ สุดท้ายแล้วเราก็จะได้ระยะทางที่น้อยที่สุด\n",
        "       shorted_path = path.copy() # ทุกครั้งที่เราได้ path ใหม่ที่น้อยกว่าอันเดิมก็ให้อัพเดทใหม่กลับเข้าไปที่ shorted_path ซึ่งเป็นตัวแปรที่ไว้เก็บ path ที่สั้นที่สุด\n",
        "\n",
        "  next_possible_nodes = connections[node] # กำหนดชื่อตัวแปรเฉยๆ\n",
        "  for next_node in next_possible_nodes: # ก็คือวนลูปใน connections[node] นั่นแหละ\n",
        "\n",
        "    prev_nodes = [prev_node for (prev_node, distance) in path] # ดึงข้อมูลโหนดที่อยู่ใน path ออกมาเป็น list\n",
        "\n",
        "    if next_node[0] not in prev_nodes: #เช็คว่า node ที่จะไปต้องไม่ใช่ node ที่ไปมาแล้ว\n",
        "      shorted_path_dfs(next_node[0], distance + next_node[1], path) # recursive node ไปเรื่อย ๆ โดยการ + ระยะทางเข้าไปจนกว่าจะถึงโหนดที่เราต้องการ (ระยะทางเดิม+ระยะทางใหม่)\n",
        "      print(path) # ปริ้นมาดู path ทั้งหมด\n",
        "      path.pop() # เมื่อไปจนสุดทางแล้วก็เอาโหนดนั้น ๆ ออกจาก path list ไป ไปไม่ได้เเล้วจะเอาออก\n",
        "\n",
        "      if NodeFound(node, \"I\"): # เช็คว่าถ้า path นั้นๆสุดที่ node I ก็แสดงว่านั่นคือ path ที่ต้องการ\n",
        "          print(\"---->>> path\",\":\",path) # ปริ้น path ที่ถึง I\n",
        "          print(\"---------------------------------------------------------------------------\")\n"
      ],
      "metadata": {
        "id": "y3_OyF_z5GHa"
      },
      "execution_count": null,
      "outputs": []
    },
    {
      "cell_type": "code",
      "source": [
        "shorted_path_dfs(initial_node,distance=0,path=[])\n",
        "node_distance = [node_short for (node_short,distance) in shorted_path]\n",
        "print(node_distance)\n",
        "print(\"min distance path :\",shorted_path)\n",
        "print(\"result distance path :\",(shorted_path[-1][1],root(node_distance)))\n",
        "print(\"min distance :\",shorted_path[-1][1],\"km.\")"
      ],
      "metadata": {
        "id": "Htju8hs3_TcS",
        "colab": {
          "base_uri": "https://localhost:8080/",
          "height": 211
        },
        "outputId": "abb2e494-4f27-4b82-d56f-c908fcf31221"
      },
      "execution_count": null,
      "outputs": [
        {
          "output_type": "error",
          "ename": "NameError",
          "evalue": "name 'shorted_path_dfs' is not defined",
          "traceback": [
            "\u001b[0;31m---------------------------------------------------------------------------\u001b[0m",
            "\u001b[0;31mNameError\u001b[0m                                 Traceback (most recent call last)",
            "\u001b[0;32m<ipython-input-1-dec62945a188>\u001b[0m in \u001b[0;36m<cell line: 0>\u001b[0;34m()\u001b[0m\n\u001b[0;32m----> 1\u001b[0;31m \u001b[0mshorted_path_dfs\u001b[0m\u001b[0;34m(\u001b[0m\u001b[0minitial_node\u001b[0m\u001b[0;34m,\u001b[0m\u001b[0mdistance\u001b[0m\u001b[0;34m=\u001b[0m\u001b[0;36m0\u001b[0m\u001b[0;34m,\u001b[0m\u001b[0mpath\u001b[0m\u001b[0;34m=\u001b[0m\u001b[0;34m[\u001b[0m\u001b[0;34m]\u001b[0m\u001b[0;34m)\u001b[0m\u001b[0;34m\u001b[0m\u001b[0;34m\u001b[0m\u001b[0m\n\u001b[0m\u001b[1;32m      2\u001b[0m \u001b[0mnode_distance\u001b[0m \u001b[0;34m=\u001b[0m \u001b[0;34m[\u001b[0m\u001b[0mnode_short\u001b[0m \u001b[0;32mfor\u001b[0m \u001b[0;34m(\u001b[0m\u001b[0mnode_short\u001b[0m\u001b[0;34m,\u001b[0m\u001b[0mdistance\u001b[0m\u001b[0;34m)\u001b[0m \u001b[0;32min\u001b[0m \u001b[0mshorted_path\u001b[0m\u001b[0;34m]\u001b[0m\u001b[0;34m\u001b[0m\u001b[0;34m\u001b[0m\u001b[0m\n\u001b[1;32m      3\u001b[0m \u001b[0mprint\u001b[0m\u001b[0;34m(\u001b[0m\u001b[0mnode_distance\u001b[0m\u001b[0;34m)\u001b[0m\u001b[0;34m\u001b[0m\u001b[0;34m\u001b[0m\u001b[0m\n\u001b[1;32m      4\u001b[0m \u001b[0mprint\u001b[0m\u001b[0;34m(\u001b[0m\u001b[0;34m\"min distance path :\"\u001b[0m\u001b[0;34m,\u001b[0m\u001b[0mshorted_path\u001b[0m\u001b[0;34m)\u001b[0m\u001b[0;34m\u001b[0m\u001b[0;34m\u001b[0m\u001b[0m\n\u001b[1;32m      5\u001b[0m \u001b[0mprint\u001b[0m\u001b[0;34m(\u001b[0m\u001b[0;34m\"result distance path :\"\u001b[0m\u001b[0;34m,\u001b[0m\u001b[0;34m(\u001b[0m\u001b[0mshorted_path\u001b[0m\u001b[0;34m[\u001b[0m\u001b[0;34m-\u001b[0m\u001b[0;36m1\u001b[0m\u001b[0;34m]\u001b[0m\u001b[0;34m[\u001b[0m\u001b[0;36m1\u001b[0m\u001b[0;34m]\u001b[0m\u001b[0;34m,\u001b[0m\u001b[0mroot\u001b[0m\u001b[0;34m(\u001b[0m\u001b[0mnode_distance\u001b[0m\u001b[0;34m)\u001b[0m\u001b[0;34m)\u001b[0m\u001b[0;34m)\u001b[0m\u001b[0;34m\u001b[0m\u001b[0;34m\u001b[0m\u001b[0m\n",
            "\u001b[0;31mNameError\u001b[0m: name 'shorted_path_dfs' is not defined"
          ]
        }
      ]
    },
    {
      "cell_type": "markdown",
      "source": [
        "#time only\n"
      ],
      "metadata": {
        "id": "0sP_wt96BrQ2"
      }
    },
    {
      "cell_type": "code",
      "source": [
        "# only time version\n",
        "#for time\n",
        "connections = { 'A' : [('B', 19),('D', 39)],\n",
        "                'B' : [('A', 19), ('C', 45), ('E', 20)],\n",
        "                'C' : [('B', 45), ('F', 64)],\n",
        "                'D' : [('A', 39), ('E', 15), ('G', 26)],\n",
        "                'E' : [('B', 20), ('D', 15), ('F', 57),('H', 43)],\n",
        "                'F' : [('C', 64), ('E', 57), ('I', 21)],\n",
        "                'G' : [('D', 26), ('H', 22),],\n",
        "                'H' : [('E', 43), ('G', 22), ('I', 40)],\n",
        "                'I' : [('F', 21), ('H', 40)]\n",
        "              }\n",
        "actions = [0, 1, 2, 3]\n",
        "initial_node = 'A'\n",
        "\n",
        "time_path = [] # เป็น list ที่เอาไว้เก็บ path ที่มี time น้อยที่สุด\n",
        "min_time = 999 # ประกาศตัวแปรเพื่อเอาไว้เช็คเวลาที่น้อยที่สุด\n",
        "def shorted_path_dfs(node, time, path):\n",
        "\n",
        "  global min_time, time_path   # เรียกใช้ตัวแปรจากภายนอกฟังก์ชัน เพื่อให้เวลาเปลี่ยนค่าอะไรในฟังก์ชันตัวแปรภายนอกนั้น ๆ ก็จะถูกเปลี่ยนไปด้วย\n",
        "  path.append((node, time)) # เพิ่มค่า node, time เป็น tuple เข้าไปใน path\n",
        "  if NodeFound(node, \"I\"): # เช็คว่า path ถึงโหนดที่เราต้องการแล้วหรือยัง\n",
        "    if time < min_time : # เช็คว่าตอนนี้ที่ node ที่เราต้องการ time น้อยกว่า min_time เดิมที่เคยเก็บมามั้ย (เริ่มต้นให้ min_distance เป็น 999 หรือจะมากกว่านี้ก็ได้แต่จะต้องเป็นตัวเลขที่การันตีว่า distance รวมจะไม่ถึง เพื่อให้ min_distance ถูกเปลี่ยนแน่นอนในครั้งแรก)\n",
        "       min_time = time # ถ้าใช่ก็ set min_time ใหม่ สุดท้ายแล้วเราก็จะได้ระยะเวลาที่น้อยที่สุด\n",
        "       time_path = path.copy() # ทุกครั้งที่เราได้ path ใหม่ที่น้อยกว่าอันเดิมก็ให้อัพเดทใหม่กลับเข้าไปที่ time_path ซึ่งเป็นตัวแปรที่ไว้เก็บ path ที่สั้นที่สุด\n",
        "\n",
        "  next_possible_nodes = connections[node] # กำหนดชื่อตัวแปรเฉยๆ\n",
        "  for next_node in next_possible_nodes: # ก็คือวนลูปใน connections[node] นั่นแหละ\n",
        "\n",
        "    prev_nodes = [prev_node for (prev_node, time) in path] # ดึงข้อมูลโหนดที่อยู่ใน path ออกมาเป็น list\n",
        "\n",
        "    if next_node[0] not in prev_nodes: #เช็คว่า node ที่จะไปต้องไม่ใช่ node ที่ไปมาแล้ว\n",
        "      shorted_path_dfs(next_node[0], time + next_node[1], path) # recursive node ไปเรื่อย ๆ โดยการ + เวลาเข้าไปจนกว่าจะถึงโหนดที่เราต้องการ\n",
        "      print(path) # ปริ้นมาดู path ทั้งหมด\n",
        "      path.pop() # เมื่อไปจนสุดทางแล้วก็เอาโหนดนั้น ๆ ออกจาก path list ไป\n",
        "      if NodeFound(node, \"I\"): # เช็คว่าถ้า path นั้นๆสุดที่ node I ก็แสดงว่านั่นคือ path ที่ต้องการ\n",
        "          print(\"---->>> path\",\":\",path) # ปริ้น path ที่ถึง I\n",
        "          print(\"---------------------------------------------------------------------------\")\n"
      ],
      "metadata": {
        "id": "9vMGME_1_dpr"
      },
      "execution_count": null,
      "outputs": []
    },
    {
      "cell_type": "code",
      "source": [
        "shorted_path_dfs(initial_node,time=0,path=[])\n",
        "node_time = [node_time for (node_time,time) in time_path]\n",
        "\n",
        "print(\"min time path :\",time_path)\n",
        "print(\"result time path :\",(time_path[-1][1],root(node_time)))\n",
        "print(\"min time :\",time_path[-1][1],\"min\")"
      ],
      "metadata": {
        "id": "E_KB5xpn_5u3"
      },
      "execution_count": null,
      "outputs": []
    }
  ]
}